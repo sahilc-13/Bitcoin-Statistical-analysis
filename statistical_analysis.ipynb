{
 "cells": [
  {
   "cell_type": "code",
   "execution_count": 1,
   "id": "3ba5fa09-1bd1-4e49-923a-f1e3ea482cc0",
   "metadata": {},
   "outputs": [],
   "source": [
    "import pandas as pd     \n",
    "import numpy as np      \n",
    "import matplotlib.pyplot as plt  \n",
    "import seaborn as sns    \n",
    "import scipy.stats as stats "
   ]
  },
  {
   "cell_type": "code",
   "execution_count": 2,
   "id": "a06076d2-9893-4f56-8a43-39b5e610cd67",
   "metadata": {},
   "outputs": [],
   "source": [
    "df=pd.read_csv(\"bitcoin_dt.csv\")"
   ]
  },
  {
   "cell_type": "code",
   "execution_count": 3,
   "id": "9abc5e4a-9183-481f-b819-fa8345d271e5",
   "metadata": {},
   "outputs": [
    {
     "data": {
      "text/html": [
       "<div>\n",
       "<style scoped>\n",
       "    .dataframe tbody tr th:only-of-type {\n",
       "        vertical-align: middle;\n",
       "    }\n",
       "\n",
       "    .dataframe tbody tr th {\n",
       "        vertical-align: top;\n",
       "    }\n",
       "\n",
       "    .dataframe thead th {\n",
       "        text-align: right;\n",
       "    }\n",
       "</style>\n",
       "<table border=\"1\" class=\"dataframe\">\n",
       "  <thead>\n",
       "    <tr style=\"text-align: right;\">\n",
       "      <th></th>\n",
       "      <th>Timestamp</th>\n",
       "      <th>Open</th>\n",
       "      <th>High</th>\n",
       "      <th>Low</th>\n",
       "      <th>Close</th>\n",
       "      <th>Volume</th>\n",
       "    </tr>\n",
       "  </thead>\n",
       "  <tbody>\n",
       "    <tr>\n",
       "      <th>count</th>\n",
       "      <td>7227037.00</td>\n",
       "      <td>7227037.00</td>\n",
       "      <td>7227037.00</td>\n",
       "      <td>7227037.00</td>\n",
       "      <td>7227037.00</td>\n",
       "      <td>7227037.00</td>\n",
       "    </tr>\n",
       "    <tr>\n",
       "      <th>mean</th>\n",
       "      <td>1542225874.65</td>\n",
       "      <td>20188.42</td>\n",
       "      <td>20195.75</td>\n",
       "      <td>20180.89</td>\n",
       "      <td>20188.43</td>\n",
       "      <td>5.17</td>\n",
       "    </tr>\n",
       "    <tr>\n",
       "      <th>std</th>\n",
       "      <td>125180512.48</td>\n",
       "      <td>28532.55</td>\n",
       "      <td>28540.30</td>\n",
       "      <td>28524.68</td>\n",
       "      <td>28532.55</td>\n",
       "      <td>22.20</td>\n",
       "    </tr>\n",
       "    <tr>\n",
       "      <th>min</th>\n",
       "      <td>1325412060.00</td>\n",
       "      <td>3.80</td>\n",
       "      <td>3.80</td>\n",
       "      <td>3.80</td>\n",
       "      <td>3.80</td>\n",
       "      <td>0.00</td>\n",
       "    </tr>\n",
       "    <tr>\n",
       "      <th>25%</th>\n",
       "      <td>1433817600.00</td>\n",
       "      <td>437.52</td>\n",
       "      <td>437.82</td>\n",
       "      <td>437.26</td>\n",
       "      <td>437.54</td>\n",
       "      <td>0.02</td>\n",
       "    </tr>\n",
       "    <tr>\n",
       "      <th>50%</th>\n",
       "      <td>1542223140.00</td>\n",
       "      <td>7118.10</td>\n",
       "      <td>7122.45</td>\n",
       "      <td>7113.36</td>\n",
       "      <td>7117.99</td>\n",
       "      <td>0.45</td>\n",
       "    </tr>\n",
       "    <tr>\n",
       "      <th>75%</th>\n",
       "      <td>1650628680.00</td>\n",
       "      <td>29814.00</td>\n",
       "      <td>29821.00</td>\n",
       "      <td>29806.00</td>\n",
       "      <td>29814.00</td>\n",
       "      <td>2.93</td>\n",
       "    </tr>\n",
       "    <tr>\n",
       "      <th>max</th>\n",
       "      <td>1759103820.00</td>\n",
       "      <td>124479.00</td>\n",
       "      <td>124517.00</td>\n",
       "      <td>124321.00</td>\n",
       "      <td>124482.00</td>\n",
       "      <td>5853.85</td>\n",
       "    </tr>\n",
       "  </tbody>\n",
       "</table>\n",
       "</div>"
      ],
      "text/plain": [
       "          Timestamp       Open       High        Low      Close     Volume\n",
       "count    7227037.00 7227037.00 7227037.00 7227037.00 7227037.00 7227037.00\n",
       "mean  1542225874.65   20188.42   20195.75   20180.89   20188.43       5.17\n",
       "std    125180512.48   28532.55   28540.30   28524.68   28532.55      22.20\n",
       "min   1325412060.00       3.80       3.80       3.80       3.80       0.00\n",
       "25%   1433817600.00     437.52     437.82     437.26     437.54       0.02\n",
       "50%   1542223140.00    7118.10    7122.45    7113.36    7117.99       0.45\n",
       "75%   1650628680.00   29814.00   29821.00   29806.00   29814.00       2.93\n",
       "max   1759103820.00  124479.00  124517.00  124321.00  124482.00    5853.85"
      ]
     },
     "execution_count": 3,
     "metadata": {},
     "output_type": "execute_result"
    }
   ],
   "source": [
    "pd.set_option(\"display.float_format\", \"{:.2f}\".format)\n",
    "df.describe()"
   ]
  },
  {
   "cell_type": "code",
   "execution_count": 4,
   "id": "b0df7675-2a06-473b-953b-c22a7c2dee83",
   "metadata": {},
   "outputs": [
    {
     "name": "stdout",
     "output_type": "stream",
     "text": [
      "<class 'pandas.core.frame.DataFrame'>\n",
      "RangeIndex: 7227037 entries, 0 to 7227036\n",
      "Data columns (total 6 columns):\n",
      " #   Column     Dtype  \n",
      "---  ------     -----  \n",
      " 0   Timestamp  float64\n",
      " 1   Open       float64\n",
      " 2   High       float64\n",
      " 3   Low        float64\n",
      " 4   Close      float64\n",
      " 5   Volume     float64\n",
      "dtypes: float64(6)\n",
      "memory usage: 330.8 MB\n"
     ]
    }
   ],
   "source": [
    "df.info()"
   ]
  },
  {
   "cell_type": "code",
   "execution_count": 5,
   "id": "8dacf6db-9b36-4d50-a32b-bc4e1bf617e7",
   "metadata": {},
   "outputs": [
    {
     "data": {
      "text/plain": [
       "Timestamp    0\n",
       "Open         0\n",
       "High         0\n",
       "Low          0\n",
       "Close        0\n",
       "Volume       0\n",
       "dtype: int64"
      ]
     },
     "execution_count": 5,
     "metadata": {},
     "output_type": "execute_result"
    }
   ],
   "source": [
    "df.isnull().sum()"
   ]
  },
  {
   "cell_type": "code",
   "execution_count": 6,
   "id": "6ad4d76e-d7cd-4800-8746-8051226e0f80",
   "metadata": {},
   "outputs": [],
   "source": [
    "df.drop(columns=['Timestamp'], inplace=True)"
   ]
  },
  {
   "cell_type": "code",
   "execution_count": 7,
   "id": "1e3f7dd2-b2b7-4db0-ade3-a06df52725a4",
   "metadata": {},
   "outputs": [
    {
     "data": {
      "text/html": [
       "<div>\n",
       "<style scoped>\n",
       "    .dataframe tbody tr th:only-of-type {\n",
       "        vertical-align: middle;\n",
       "    }\n",
       "\n",
       "    .dataframe tbody tr th {\n",
       "        vertical-align: top;\n",
       "    }\n",
       "\n",
       "    .dataframe thead th {\n",
       "        text-align: right;\n",
       "    }\n",
       "</style>\n",
       "<table border=\"1\" class=\"dataframe\">\n",
       "  <thead>\n",
       "    <tr style=\"text-align: right;\">\n",
       "      <th></th>\n",
       "      <th>Open</th>\n",
       "      <th>High</th>\n",
       "      <th>Low</th>\n",
       "      <th>Close</th>\n",
       "      <th>Volume</th>\n",
       "    </tr>\n",
       "  </thead>\n",
       "  <tbody>\n",
       "    <tr>\n",
       "      <th>0</th>\n",
       "      <td>4.58</td>\n",
       "      <td>4.58</td>\n",
       "      <td>4.58</td>\n",
       "      <td>4.58</td>\n",
       "      <td>0.00</td>\n",
       "    </tr>\n",
       "    <tr>\n",
       "      <th>1</th>\n",
       "      <td>4.58</td>\n",
       "      <td>4.58</td>\n",
       "      <td>4.58</td>\n",
       "      <td>4.58</td>\n",
       "      <td>0.00</td>\n",
       "    </tr>\n",
       "    <tr>\n",
       "      <th>2</th>\n",
       "      <td>4.58</td>\n",
       "      <td>4.58</td>\n",
       "      <td>4.58</td>\n",
       "      <td>4.58</td>\n",
       "      <td>0.00</td>\n",
       "    </tr>\n",
       "    <tr>\n",
       "      <th>3</th>\n",
       "      <td>4.58</td>\n",
       "      <td>4.58</td>\n",
       "      <td>4.58</td>\n",
       "      <td>4.58</td>\n",
       "      <td>0.00</td>\n",
       "    </tr>\n",
       "    <tr>\n",
       "      <th>4</th>\n",
       "      <td>4.58</td>\n",
       "      <td>4.58</td>\n",
       "      <td>4.58</td>\n",
       "      <td>4.58</td>\n",
       "      <td>0.00</td>\n",
       "    </tr>\n",
       "    <tr>\n",
       "      <th>...</th>\n",
       "      <td>...</td>\n",
       "      <td>...</td>\n",
       "      <td>...</td>\n",
       "      <td>...</td>\n",
       "      <td>...</td>\n",
       "    </tr>\n",
       "    <tr>\n",
       "      <th>7227032</th>\n",
       "      <td>112180.00</td>\n",
       "      <td>112180.00</td>\n",
       "      <td>112172.00</td>\n",
       "      <td>112176.00</td>\n",
       "      <td>0.06</td>\n",
       "    </tr>\n",
       "    <tr>\n",
       "      <th>7227033</th>\n",
       "      <td>112166.00</td>\n",
       "      <td>112166.00</td>\n",
       "      <td>112152.00</td>\n",
       "      <td>112158.00</td>\n",
       "      <td>0.74</td>\n",
       "    </tr>\n",
       "    <tr>\n",
       "      <th>7227034</th>\n",
       "      <td>112159.00</td>\n",
       "      <td>112159.00</td>\n",
       "      <td>112135.00</td>\n",
       "      <td>112135.00</td>\n",
       "      <td>0.14</td>\n",
       "    </tr>\n",
       "    <tr>\n",
       "      <th>7227035</th>\n",
       "      <td>112114.00</td>\n",
       "      <td>112114.00</td>\n",
       "      <td>112086.00</td>\n",
       "      <td>112098.00</td>\n",
       "      <td>0.41</td>\n",
       "    </tr>\n",
       "    <tr>\n",
       "      <th>7227036</th>\n",
       "      <td>112098.00</td>\n",
       "      <td>112117.00</td>\n",
       "      <td>112098.00</td>\n",
       "      <td>112117.00</td>\n",
       "      <td>0.11</td>\n",
       "    </tr>\n",
       "  </tbody>\n",
       "</table>\n",
       "<p>7227037 rows × 5 columns</p>\n",
       "</div>"
      ],
      "text/plain": [
       "             Open      High       Low     Close  Volume\n",
       "0            4.58      4.58      4.58      4.58    0.00\n",
       "1            4.58      4.58      4.58      4.58    0.00\n",
       "2            4.58      4.58      4.58      4.58    0.00\n",
       "3            4.58      4.58      4.58      4.58    0.00\n",
       "4            4.58      4.58      4.58      4.58    0.00\n",
       "...           ...       ...       ...       ...     ...\n",
       "7227032 112180.00 112180.00 112172.00 112176.00    0.06\n",
       "7227033 112166.00 112166.00 112152.00 112158.00    0.74\n",
       "7227034 112159.00 112159.00 112135.00 112135.00    0.14\n",
       "7227035 112114.00 112114.00 112086.00 112098.00    0.41\n",
       "7227036 112098.00 112117.00 112098.00 112117.00    0.11\n",
       "\n",
       "[7227037 rows x 5 columns]"
      ]
     },
     "execution_count": 7,
     "metadata": {},
     "output_type": "execute_result"
    }
   ],
   "source": [
    "df"
   ]
  },
  {
   "cell_type": "markdown",
   "id": "f89d1889-d488-4577-9656-6ac0b816ecf9",
   "metadata": {},
   "source": [
    "### Statistical Analysis"
   ]
  },
  {
   "cell_type": "code",
   "execution_count": 8,
   "id": "9c62e6cd-76da-4b0d-93ae-bfe3b19059fa",
   "metadata": {},
   "outputs": [
    {
     "data": {
      "text/html": [
       "<div>\n",
       "<style scoped>\n",
       "    .dataframe tbody tr th:only-of-type {\n",
       "        vertical-align: middle;\n",
       "    }\n",
       "\n",
       "    .dataframe tbody tr th {\n",
       "        vertical-align: top;\n",
       "    }\n",
       "\n",
       "    .dataframe thead th {\n",
       "        text-align: right;\n",
       "    }\n",
       "</style>\n",
       "<table border=\"1\" class=\"dataframe\">\n",
       "  <thead>\n",
       "    <tr style=\"text-align: right;\">\n",
       "      <th></th>\n",
       "      <th>Open</th>\n",
       "      <th>High</th>\n",
       "      <th>Low</th>\n",
       "      <th>Close</th>\n",
       "      <th>Volume</th>\n",
       "    </tr>\n",
       "  </thead>\n",
       "  <tbody>\n",
       "    <tr>\n",
       "      <th>count</th>\n",
       "      <td>7227037.00</td>\n",
       "      <td>7227037.00</td>\n",
       "      <td>7227037.00</td>\n",
       "      <td>7227037.00</td>\n",
       "      <td>7227037.00</td>\n",
       "    </tr>\n",
       "    <tr>\n",
       "      <th>mean</th>\n",
       "      <td>20188.42</td>\n",
       "      <td>20195.75</td>\n",
       "      <td>20180.89</td>\n",
       "      <td>20188.43</td>\n",
       "      <td>5.17</td>\n",
       "    </tr>\n",
       "    <tr>\n",
       "      <th>std</th>\n",
       "      <td>28532.55</td>\n",
       "      <td>28540.30</td>\n",
       "      <td>28524.68</td>\n",
       "      <td>28532.55</td>\n",
       "      <td>22.20</td>\n",
       "    </tr>\n",
       "    <tr>\n",
       "      <th>min</th>\n",
       "      <td>3.80</td>\n",
       "      <td>3.80</td>\n",
       "      <td>3.80</td>\n",
       "      <td>3.80</td>\n",
       "      <td>0.00</td>\n",
       "    </tr>\n",
       "    <tr>\n",
       "      <th>25%</th>\n",
       "      <td>437.52</td>\n",
       "      <td>437.82</td>\n",
       "      <td>437.26</td>\n",
       "      <td>437.54</td>\n",
       "      <td>0.02</td>\n",
       "    </tr>\n",
       "    <tr>\n",
       "      <th>50%</th>\n",
       "      <td>7118.10</td>\n",
       "      <td>7122.45</td>\n",
       "      <td>7113.36</td>\n",
       "      <td>7117.99</td>\n",
       "      <td>0.45</td>\n",
       "    </tr>\n",
       "    <tr>\n",
       "      <th>75%</th>\n",
       "      <td>29814.00</td>\n",
       "      <td>29821.00</td>\n",
       "      <td>29806.00</td>\n",
       "      <td>29814.00</td>\n",
       "      <td>2.93</td>\n",
       "    </tr>\n",
       "    <tr>\n",
       "      <th>max</th>\n",
       "      <td>124479.00</td>\n",
       "      <td>124517.00</td>\n",
       "      <td>124321.00</td>\n",
       "      <td>124482.00</td>\n",
       "      <td>5853.85</td>\n",
       "    </tr>\n",
       "  </tbody>\n",
       "</table>\n",
       "</div>"
      ],
      "text/plain": [
       "            Open       High        Low      Close     Volume\n",
       "count 7227037.00 7227037.00 7227037.00 7227037.00 7227037.00\n",
       "mean    20188.42   20195.75   20180.89   20188.43       5.17\n",
       "std     28532.55   28540.30   28524.68   28532.55      22.20\n",
       "min         3.80       3.80       3.80       3.80       0.00\n",
       "25%       437.52     437.82     437.26     437.54       0.02\n",
       "50%      7118.10    7122.45    7113.36    7117.99       0.45\n",
       "75%     29814.00   29821.00   29806.00   29814.00       2.93\n",
       "max    124479.00  124517.00  124321.00  124482.00    5853.85"
      ]
     },
     "execution_count": 8,
     "metadata": {},
     "output_type": "execute_result"
    }
   ],
   "source": [
    "df.describe()"
   ]
  },
  {
   "cell_type": "markdown",
   "id": "d1382454-5703-4cf1-a15f-7b4e622d649e",
   "metadata": {},
   "source": [
    "#### Descriptive"
   ]
  },
  {
   "cell_type": "code",
   "execution_count": 9,
   "id": "ae087598-8d47-4d96-a1ee-7e94c87f8ca9",
   "metadata": {},
   "outputs": [
    {
     "name": "stdout",
     "output_type": "stream",
     "text": [
      "\n",
      "Mean of each column:\n",
      "\n",
      "Open     20188.42\n",
      "High     20195.75\n",
      "Low      20180.89\n",
      "Close    20188.43\n",
      "Volume       5.17\n",
      "dtype: float64\n",
      "\n",
      "Median of each column:\n",
      "\n",
      "Open     7118.10\n",
      "High     7122.45\n",
      "Low      7113.36\n",
      "Close    7117.99\n",
      "Volume      0.45\n",
      "dtype: float64\n",
      "\n",
      "Mode of each column:\n",
      "\n",
      "Open     5.00\n",
      "High     5.00\n",
      "Low      5.00\n",
      "Close    5.00\n",
      "Volume   0.00\n",
      "Name: 0, dtype: float64\n"
     ]
    }
   ],
   "source": [
    "mean = df.mean()\n",
    "mode = df.mode().iloc[0]\n",
    "median = df.median()\n",
    "\n",
    "print(\"\")\n",
    "print(\"Mean of each column:\\n\")\n",
    "print(mean)\n",
    "\n",
    "print(\"\")\n",
    "print(\"Median of each column:\\n\")\n",
    "print(median)\n",
    "\n",
    "print(\"\")\n",
    "print(\"Mode of each column:\\n\")\n",
    "print(mode)"
   ]
  },
  {
   "cell_type": "code",
   "execution_count": 10,
   "id": "246ec864-878f-4e1d-b1b0-80ddf7a3f3b6",
   "metadata": {},
   "outputs": [
    {
     "name": "stdout",
     "output_type": "stream",
     "text": [
      "\n",
      "Range:\n",
      " Open     124475.20\n",
      "High     124513.20\n",
      "Low      124317.20\n",
      "Close    124478.20\n",
      "Volume     5853.85\n",
      "dtype: float64 \n",
      "\n",
      "\n",
      "Variance:\n",
      " Open     814106679.71\n",
      "High     814548558.98\n",
      "Low      813657433.04\n",
      "Close    814106625.85\n",
      "Volume         492.73\n",
      "dtype: float64 \n",
      "\n",
      "\n",
      "Standard Deviation:\n",
      " Open     28532.55\n",
      "High     28540.30\n",
      "Low      28524.68\n",
      "Close    28532.55\n",
      "Volume      22.20\n",
      "dtype: float64 \n",
      "\n",
      "\n",
      "Mean Absolute Deviation (MAD):\n",
      " Open     22003.56\n",
      "High     22010.42\n",
      "Low      21996.60\n",
      "Close    22003.60\n",
      "Volume       7.19\n",
      "dtype: float64 \n",
      "\n",
      "\n",
      "Quartiles:\n",
      "Q1:\n",
      " Open     437.52\n",
      "High     437.82\n",
      "Low      437.26\n",
      "Close    437.54\n",
      "Volume     0.02\n",
      "Name: 0.25, dtype: float64 \n",
      "Q2 (Median):\n",
      " Open     7118.10\n",
      "High     7122.45\n",
      "Low      7113.36\n",
      "Close    7117.99\n",
      "Volume      0.45\n",
      "Name: 0.5, dtype: float64 \n",
      "Q3:\n",
      " Open     29814.00\n",
      "High     29821.00\n",
      "Low      29806.00\n",
      "Close    29814.00\n",
      "Volume       2.93\n",
      "Name: 0.75, dtype: float64 \n",
      "\n",
      "\n",
      "Interquartile Range (IQR):\n",
      " Open     29376.48\n",
      "High     29383.18\n",
      "Low      29368.74\n",
      "Close    29376.46\n",
      "Volume       2.91\n",
      "dtype: float64\n"
     ]
    }
   ],
   "source": [
    "data_range = df.max() - df.min() \n",
    "variance = df.var() \n",
    "std_dev = df.std() \n",
    "mad = df.apply(lambda x: np.mean(np.abs(x - x.mean())))\n",
    "\n",
    "# Quartiles\n",
    "q1 = df.quantile(0.25)\n",
    "q2 = df.quantile(0.50)\n",
    "q3 = df.quantile(0.75)\n",
    "\n",
    "iqr = q3 - q1\n",
    "\n",
    "print(\"\")\n",
    "print(\"Range:\\n\", data_range, \"\\n\")\n",
    "print(\"\")\n",
    "print(\"Variance:\\n\", variance, \"\\n\")\n",
    "print(\"\")\n",
    "print(\"Standard Deviation:\\n\", std_dev, \"\\n\")\n",
    "print(\"\")\n",
    "print(\"Mean Absolute Deviation (MAD):\\n\", mad, \"\\n\")\n",
    "print(\"\")\n",
    "print(\"Quartiles:\\nQ1:\\n\", q1, \"\\nQ2 (Median):\\n\", q2, \"\\nQ3:\\n\", q3, \"\\n\")\n",
    "print(\"\")\n",
    "print(\"Interquartile Range (IQR):\\n\", iqr)\n"
   ]
  },
  {
   "cell_type": "code",
   "execution_count": 11,
   "id": "391fae86-bb89-4f57-b4ef-85d41048ad48",
   "metadata": {},
   "outputs": [
    {
     "name": "stdout",
     "output_type": "stream",
     "text": [
      "\n",
      "Skewness:\n",
      " Open      1.70\n",
      "High      1.70\n",
      "Low       1.70\n",
      "Close     1.70\n",
      "Volume   27.65\n",
      "dtype: float64 \n",
      "\n",
      "\n",
      "Kurtosis:\n",
      " Open        2.17\n",
      "High        2.17\n",
      "Low         2.17\n",
      "Close       2.17\n",
      "Volume   2452.05\n",
      "dtype: float64\n"
     ]
    }
   ],
   "source": [
    "skewness = df.skew()\n",
    "\n",
    "kurtosis = df.kurtosis()\n",
    "\n",
    "print(\"\")\n",
    "print(\"Skewness:\\n\", skewness, \"\\n\")\n",
    "print(\"\")\n",
    "print(\"Kurtosis:\\n\", kurtosis)"
   ]
  },
  {
   "cell_type": "markdown",
   "id": "2dc3ffb2-6c1c-48fb-9c0d-e9c0e1e35d34",
   "metadata": {},
   "source": [
    "#### Inferential"
   ]
  },
  {
   "cell_type": "code",
   "execution_count": 12,
   "id": "430d36e5-21d5-4c89-8f98-507fb096b423",
   "metadata": {},
   "outputs": [
    {
     "data": {
      "image/png": "[encoded data removed]",
      "text/plain": [
       "<Figure size 640x480 with 1 Axes>"
      ]
     },
     "metadata": {},
     "output_type": "display_data"
    }
   ],
   "source": [
    "# Central Limit Theorem(CLT): 1000 samples of size 30 and calculate means\n",
    "sample_means = [df['Close'].sample(30).mean() for _ in range(1000)]\n",
    "\n",
    "# Plot histogram of sample means\n",
    "plt.hist(sample_means, bins=30)\n",
    "plt.title(\"Central Limit Theorem: Distribution of Sample Means\")\n",
    "plt.xlabel(\"Sample Mean\")\n",
    "plt.ylabel(\"Frequency\")\n",
    "plt.show()\n"
   ]
  },
  {
   "cell_type": "code",
   "execution_count": 13,
   "id": "c3acc370-2e41-4696-b296-85ef7687493b",
   "metadata": {},
   "outputs": [
    {
     "name": "stdout",
     "output_type": "stream",
     "text": [
      "Confidence Interval for Mean of Close Price: (20167.63, 20209.23)\n"
     ]
    }
   ],
   "source": [
    "# Confidence Interval\n",
    "\n",
    "confidence_level = 0.95  # 95% confidence\n",
    "mean_close = df['Close'].mean()\n",
    "std_error = df['Close'].sem()  # Standard error of the mean\n",
    "\n",
    "# Calculate Confidence Interval using t-distribution\n",
    "ci_lower = mean_close - stats.t.ppf(1 - (1 - confidence_level) / 2, df['Close'].shape[0] - 1) * std_error\n",
    "ci_upper = mean_close + stats.t.ppf(1 - (1 - confidence_level) / 2, df['Close'].shape[0] - 1) * std_error\n",
    "\n",
    "print(f\"Confidence Interval for Mean of Close Price: ({ci_lower:.2f}, {ci_upper:.2f})\")\n"
   ]
  },
  {
   "cell_type": "code",
   "execution_count": 14,
   "id": "0caa4427-1146-447e-a3ce-97970d9785ad",
   "metadata": {},
   "outputs": [
    {
     "name": "stdout",
     "output_type": "stream",
     "text": [
      "T-Statistic: 959.95, P-Value: 0.0000\n",
      "Reject the null hypothesis: The mean of Close price is significantly different from 10,000.\n"
     ]
    }
   ],
   "source": [
    "# Hypothesis Testing (T-test) for Close Price\n",
    "population_mean = 10000 \n",
    "\n",
    "# T-Test\n",
    "t_stat, p_value = stats.ttest_1samp(df['Close'], population_mean)\n",
    "print(f\"T-Statistic: {t_stat:.2f}, P-Value: {p_value:.4f}\")\n",
    "\n",
    "# Check if p-value is less than 0.05 (significance level)\n",
    "if p_value < 0.05:\n",
    "    print(\"Reject the null hypothesis: The mean of Close price is significantly different from 10,000.\")\n",
    "else:\n",
    "    print(\"Fail to reject the null hypothesis: No significant difference from 10,000.\")\n"
   ]
  },
  {
   "cell_type": "code",
   "execution_count": 15,
   "id": "32e626b9-0ae6-4d0a-8227-7d85ce20735e",
   "metadata": {},
   "outputs": [
    {
     "name": "stdout",
     "output_type": "stream",
     "text": [
      "Z-scores for Close price:\n",
      " 0   -0.71\n",
      "1   -0.71\n",
      "2   -0.71\n",
      "3   -0.71\n",
      "4   -0.71\n",
      "Name: Close, dtype: float64\n"
     ]
    }
   ],
   "source": [
    "#Z-Score for 'Close' price values\n",
    "z_scores = (df['Close'] - df['Close'].mean()) / df['Close'].std()\n",
    "print(\"Z-scores for Close price:\\n\", z_scores.head())\n"
   ]
  },
  {
   "cell_type": "markdown",
   "id": "cd0ea33a-57a0-4d4e-a70d-7b331563dc01",
   "metadata": {},
   "source": [
    "#### Plots (Visualizations)\n"
   ]
  },
  {
   "cell_type": "code",
   "execution_count": 17,
   "id": "e4d844e5-9a20-4963-a1ac-276d8eee767f",
   "metadata": {},
   "outputs": [
    {
     "data": {
      "image/png": "[encoded data removed]",
      "text/plain": [
       "<Figure size 800x600 with 1 Axes>"
      ]
     },
     "metadata": {},
     "output_type": "display_data"
    }
   ],
   "source": [
    "# Boxplot for Close price\n",
    "plt.figure(figsize=(8, 6))\n",
    "sns.boxplot(x=df['Close'])\n",
    "plt.title(\"Boxplot of Bitcoin Close Price\")\n",
    "plt.xlabel(\"Close Price (USD)\")\n",
    "plt.show()\n"
   ]
  },
  {
   "cell_type": "code",
   "execution_count": 18,
   "id": "f6fb935b-5a6b-455b-b296-bd76f16b9466",
   "metadata": {},
   "outputs": [
    {
     "data": {
      "image/png": "[encoded data removed]",
      "text/plain": [
       "<Figure size 1000x600 with 1 Axes>"
      ]
     },
     "metadata": {},
     "output_type": "display_data"
    }
   ],
   "source": [
    "# Histogram for Close price distribution\n",
    "plt.figure(figsize=(10, 6))\n",
    "df['Close'].hist(bins=30, edgecolor='black', color='lightblue')\n",
    "plt.title(\"Histogram of Bitcoin Close Price\")\n",
    "plt.xlabel(\"Close Price (USD)\")\n",
    "plt.ylabel(\"Frequency\")\n",
    "plt.show()\n"
   ]
  },
  {
   "cell_type": "code",
   "execution_count": 19,
   "id": "8b106857-97bf-4c2f-af5c-3e3cfa750c50",
   "metadata": {},
   "outputs": [
    {
     "data": {
      "image/png": "[encoded data removed]",
      "text/plain": [
       "<Figure size 1000x600 with 1 Axes>"
      ]
     },
     "metadata": {},
     "output_type": "display_data"
    }
   ],
   "source": [
    "# Density plot for Close price\n",
    "plt.figure(figsize=(10, 6))\n",
    "sns.kdeplot(df['Close'], color='purple', fill=True)\n",
    "plt.title(\"Density Plot of Bitcoin Close Price\")\n",
    "plt.xlabel(\"Close Price (USD)\")\n",
    "plt.ylabel(\"Density\")\n",
    "plt.show()"
   ]
  },
  {
   "cell_type": "code",
   "execution_count": 21,
   "id": "1d6762a5-75f8-48dd-a0ea-ccc889afbb0d",
   "metadata": {},
   "outputs": [
    {
     "data": {
      "image/png": "[encoded data removed]",
      "text/plain": [
       "<Figure size 1000x600 with 2 Axes>"
      ]
     },
     "metadata": {},
     "output_type": "display_data"
    }
   ],
   "source": [
    "# Correlation heatmap for the dataset\n",
    "plt.figure(figsize=(10, 6))\n",
    "sns.heatmap(df.corr(), annot=True, cmap='coolwarm', fmt='.2f')\n",
    "plt.title(\"Correlation Heatmap\")\n",
    "plt.show()\n"
   ]
  },
  {
   "cell_type": "code",
   "execution_count": null,
   "id": "d6e4216b-50e4-45b9-8a91-d826ee57bf83",
   "metadata": {},
   "outputs": [],
   "source": []
  }
 ],
 "metadata": {
  "kernelspec": {
   "display_name": "Python 3 (ipykernel)",
   "language": "python",
   "name": "python3"
  },
  "language_info": {
   "codemirror_mode": {
    "name": "ipython",
    "version": 3
   },
   "file_extension": ".py",
   "mimetype": "text/x-python",
   "name": "python",
   "nbconvert_exporter": "python",
   "pygments_lexer": "ipython3",
   "version": "3.11.2"
  }
 },
 "nbformat": 4,
 "nbformat_minor": 5
}
